{
  "nbformat": 4,
  "nbformat_minor": 0,
  "metadata": {
    "colab": {
      "name": "Untitled8.ipynb",
      "provenance": [],
      "authorship_tag": "ABX9TyNUH/FZ7s83IIeWT37te8UW",
      "include_colab_link": true
    },
    "kernelspec": {
      "name": "python3",
      "display_name": "Python 3"
    },
    "language_info": {
      "name": "python"
    },
    "accelerator": "GPU"
  },
  "cells": [
    {
      "cell_type": "markdown",
      "metadata": {
        "id": "view-in-github",
        "colab_type": "text"
      },
      "source": [
        "<a href=\"https://colab.research.google.com/github/HindaCHOKRI/3_SOC_2021_HindaCHOKRI/blob/main/FRP.ipynb\" target=\"_parent\"><img src=\"https://colab.research.google.com/assets/colab-badge.svg\" alt=\"Open In Colab\"/></a>"
      ]
    },
    {
      "cell_type": "code",
      "metadata": {
        "colab": {
          "base_uri": "https://localhost:8080/"
        },
        "id": "rgC7oMhnL_Uw",
        "outputId": "89c52af2-4f2a-402a-e23a-2997ad1dddb2"
      },
      "source": [
        "!pip install face_recognition\n",
        "\n"
      ],
      "execution_count": 4,
      "outputs": [
        {
          "output_type": "stream",
          "name": "stdout",
          "text": [
            "Collecting face_recognition\n",
            "  Downloading face_recognition-1.3.0-py2.py3-none-any.whl (15 kB)\n",
            "Collecting face-recognition-models>=0.3.0\n",
            "  Downloading face_recognition_models-0.3.0.tar.gz (100.1 MB)\n",
            "\u001b[K     |████████████████████████████████| 100.1 MB 23 kB/s \n",
            "\u001b[?25hRequirement already satisfied: Click>=6.0 in /usr/local/lib/python3.7/dist-packages (from face_recognition) (7.1.2)\n",
            "Requirement already satisfied: dlib>=19.7 in /usr/local/lib/python3.7/dist-packages (from face_recognition) (19.18.0)\n",
            "Requirement already satisfied: numpy in /usr/local/lib/python3.7/dist-packages (from face_recognition) (1.19.5)\n",
            "Requirement already satisfied: Pillow in /usr/local/lib/python3.7/dist-packages (from face_recognition) (7.1.2)\n",
            "Building wheels for collected packages: face-recognition-models\n",
            "  Building wheel for face-recognition-models (setup.py) ... \u001b[?25l\u001b[?25hdone\n",
            "  Created wheel for face-recognition-models: filename=face_recognition_models-0.3.0-py2.py3-none-any.whl size=100566185 sha256=7484c168d7cc56ac38a2e3f6afd2b2aa4be55e93b6b4724d519beb079b2d5ec5\n",
            "  Stored in directory: /root/.cache/pip/wheels/d6/81/3c/884bcd5e1c120ff548d57c2ecc9ebf3281c9a6f7c0e7e7947a\n",
            "Successfully built face-recognition-models\n",
            "Installing collected packages: face-recognition-models, face-recognition\n",
            "Successfully installed face-recognition-1.3.0 face-recognition-models-0.3.0\n"
          ]
        }
      ]
    },
    {
      "cell_type": "markdown",
      "metadata": {
        "id": "Ee1vEQWOwt_V"
      },
      "source": [
        "# New Section"
      ]
    },
    {
      "cell_type": "code",
      "metadata": {
        "id": "8C709I7KQuVj"
      },
      "source": [
        "#!pip install openCv"
      ],
      "execution_count": 5,
      "outputs": []
    },
    {
      "cell_type": "code",
      "metadata": {
        "id": "bSSbo0qYIXqb"
      },
      "source": [
        "import cv2\n",
        "import face_recognition\n",
        "\n"
      ],
      "execution_count": 6,
      "outputs": []
    },
    {
      "cell_type": "code",
      "metadata": {
        "colab": {
          "base_uri": "https://localhost:8080/"
        },
        "id": "BxFQZnXJLkq6",
        "outputId": "17261643-85b5-463b-af95-88597dfa137f"
      },
      "source": [
        "img1 = face_recognition.load_image_file(\"img1.jpg\")\n",
        "\n",
        "img1 = cv2.cvtColor(img1, cv2.COLOR_BGR2RGB)\n",
        "\n",
        "Loc1 = face_recognition.face_locations(img1)[0]\n",
        "\n",
        "print(Loc1)"
      ],
      "execution_count": 7,
      "outputs": [
        {
          "output_type": "stream",
          "name": "stdout",
          "text": [
            "(82, 210, 211, 81)\n"
          ]
        }
      ]
    },
    {
      "cell_type": "code",
      "metadata": {
        "id": "_GqLG5HQVvsB"
      },
      "source": [
        "\n",
        "encode1 = face_recognition.face_encodings(img1)[0]\n"
      ],
      "execution_count": 8,
      "outputs": []
    },
    {
      "cell_type": "code",
      "metadata": {
        "colab": {
          "base_uri": "https://localhost:8080/"
        },
        "id": "6-mTFbWMWsp6",
        "outputId": "50182e8f-aae1-4acf-adc9-93489753c203"
      },
      "source": [
        "print(encode1)"
      ],
      "execution_count": 9,
      "outputs": [
        {
          "output_type": "stream",
          "name": "stdout",
          "text": [
            "[-5.01942337e-02  1.86914533e-01  2.60281153e-02  5.77859581e-02\n",
            " -7.55993649e-02  1.07736021e-01  6.32884949e-02 -7.28931129e-02\n",
            "  1.85032651e-01 -6.82588667e-03  1.99169919e-01 -1.34246871e-02\n",
            " -2.59304225e-01 -1.17289744e-01 -5.75262532e-02  1.29362240e-01\n",
            " -1.73455760e-01 -7.77020082e-02 -1.76923752e-01 -1.37708902e-01\n",
            "  4.69499975e-02  7.21202344e-02 -6.12600371e-02  1.20610818e-02\n",
            " -2.17466548e-01 -3.04844081e-01  2.70492062e-02 -1.12927452e-01\n",
            "  2.90065520e-02 -1.26312047e-01  1.81555748e-02  1.30237401e-01\n",
            " -1.58941865e-01 -5.63925803e-02 -5.94874471e-03  1.39533021e-02\n",
            " -6.05489351e-02 -3.36097293e-02  1.64531022e-01 -3.32488827e-02\n",
            " -1.16844103e-01  9.42520052e-02  6.88482821e-02  2.60743767e-01\n",
            "  2.09006429e-01 -1.89118832e-02  6.28832355e-03 -7.62948692e-02\n",
            "  1.87892243e-01 -2.66367137e-01 -5.77807985e-02  2.15339243e-01\n",
            "  9.69296694e-03  1.13222018e-01  1.45697489e-01 -1.83169484e-01\n",
            " -4.29335646e-02  7.51746446e-02 -1.34373307e-01  4.17510346e-02\n",
            " -3.83939371e-02 -6.52327389e-02 -2.78820358e-02 -6.19142652e-02\n",
            "  2.70333141e-02  5.23710251e-03 -3.11382264e-02 -1.12836622e-01\n",
            "  1.27293706e-01 -1.50228977e-01  1.79598797e-02  1.12834021e-01\n",
            " -8.82360041e-02 -2.27738991e-01 -2.46167362e-01  9.83948708e-02\n",
            "  4.60326314e-01  2.12848842e-01 -1.72829390e-01  3.93023640e-02\n",
            " -3.50794718e-02 -4.36509028e-02  1.52891576e-01  3.04041803e-03\n",
            " -4.28506285e-02 -9.18609723e-02 -9.76982862e-02  1.10692956e-01\n",
            "  1.80903837e-01  8.27912986e-03 -2.59353593e-02  2.48232111e-01\n",
            "  2.85830274e-02 -2.67908722e-02  1.01458728e-02  9.81494784e-04\n",
            " -1.35606080e-01  5.53312898e-02 -1.01665169e-01 -4.30881977e-04\n",
            "  1.09046221e-01 -8.75275657e-02  4.66162264e-02  4.14925739e-02\n",
            " -1.00150950e-01  1.42135739e-01  2.69336812e-02  5.85732944e-02\n",
            " -9.17616487e-03 -1.68630183e-02 -1.25326857e-01  1.03637248e-01\n",
            "  2.11985603e-01 -2.41505921e-01  2.40983248e-01  1.00817874e-01\n",
            " -8.89717788e-02  1.32752761e-01  7.46451542e-02  5.96155226e-02\n",
            " -3.50081325e-02 -4.57078815e-02 -1.08845316e-01 -1.10130966e-01\n",
            "  7.18122423e-02 -4.66059893e-02  3.05474512e-02 -4.87802550e-02]\n"
          ]
        }
      ]
    },
    {
      "cell_type": "code",
      "metadata": {
        "id": "bm8k4QMIV2Ft"
      },
      "source": [
        "kot1 = cv2.rectangle(img1, (Loc1[3],Loc1[0]),(Loc1[1],Loc1[2]),(255,0,0),2)"
      ],
      "execution_count": 10,
      "outputs": []
    },
    {
      "cell_type": "code",
      "metadata": {
        "colab": {
          "base_uri": "https://localhost:8080/"
        },
        "id": "TcwrXDpTQvNL",
        "outputId": "08eaf409-0c3e-42c3-d57a-6faca59131dd"
      },
      "source": [
        "img2 = face_recognition.load_image_file(\"img3.jpg\")\n",
        "\n",
        "img2 = cv2.cvtColor(img2, cv2.COLOR_BGR2RGB)\n",
        "\n",
        "Loc2 = face_recognition.face_locations(img2)[0]\n",
        "\n",
        "\n",
        "print(Loc2)\n"
      ],
      "execution_count": 11,
      "outputs": [
        {
          "output_type": "stream",
          "name": "stdout",
          "text": [
            "(167, 588, 390, 365)\n"
          ]
        }
      ]
    },
    {
      "cell_type": "code",
      "metadata": {
        "colab": {
          "base_uri": "https://localhost:8080/"
        },
        "id": "Hd3jbTDIXBGR",
        "outputId": "2deba81c-2b25-4f46-dfce-81d2dd27b29b"
      },
      "source": [
        "encode2 = face_recognition.face_encodings(img2)[0]\n",
        "print(encode2)"
      ],
      "execution_count": 12,
      "outputs": [
        {
          "output_type": "stream",
          "name": "stdout",
          "text": [
            "[ 0.00360748  0.02791323  0.08573899 -0.02505883 -0.1666728  -0.01713708\n",
            "  0.08635843 -0.06739237  0.07665735  0.01481274  0.21092212 -0.09152749\n",
            " -0.22672424 -0.06355976 -0.00615436  0.04519777 -0.03855893 -0.16964458\n",
            " -0.0735004  -0.06222858  0.08813444 -0.03781844  0.00399505  0.08476045\n",
            " -0.11142057 -0.29279259 -0.03928078 -0.12975112  0.03183115 -0.13853265\n",
            "  0.01945591  0.13738599 -0.19973511 -0.10095517  0.00671126  0.08966593\n",
            " -0.06567073 -0.15959114  0.18803367 -0.04160516 -0.11782347  0.03983295\n",
            "  0.02174113  0.27706236  0.09204303  0.00834604  0.04101369 -0.04547264\n",
            "  0.11817013 -0.28404042  0.02240637  0.17320389  0.08791751  0.09154772\n",
            "  0.04176668 -0.12996036  0.17865135  0.09646583 -0.24366823  0.06121027\n",
            "  0.03966052 -0.12449569 -0.02922101 -0.12564915  0.24147733  0.05389487\n",
            " -0.06188428 -0.05116179  0.03328148 -0.06169435 -0.10423882  0.06909371\n",
            " -0.17197889 -0.11461408 -0.22518098  0.10861341  0.47912759  0.12237768\n",
            " -0.23769662  0.05763613 -0.14452791  0.07315624  0.07184453 -0.01984224\n",
            " -0.06519117 -0.05909692 -0.19142109  0.05056681  0.15100421 -0.07384616\n",
            " -0.04194818  0.13323499  0.01517723  0.01219143  0.06422323  0.02897702\n",
            " -0.09911286  0.06651869 -0.077957    0.00961957  0.12373082 -0.12676321\n",
            " -0.02733727  0.05148441 -0.26552954  0.13058324 -0.01169915 -0.05573173\n",
            "  0.03502663 -0.11402835 -0.10695334  0.05956759  0.12567735 -0.36118156\n",
            "  0.23436172  0.16246098  0.02243616  0.15948346  0.03216515  0.04235484\n",
            " -0.06398997 -0.06142303 -0.14465086 -0.09820566  0.14845222  0.05364417\n",
            "  0.00554719  0.00430696]\n"
          ]
        }
      ]
    },
    {
      "cell_type": "code",
      "metadata": {
        "id": "22w_ZPcxRxB4"
      },
      "source": [
        "kot2 = cv2.rectangle(img2, (Loc2[3],Loc2[0]),(Loc2[1],Loc2[2]),(255,0,0),2)\n",
        "\n"
      ],
      "execution_count": 13,
      "outputs": []
    },
    {
      "cell_type": "code",
      "metadata": {
        "id": "kfgPYPzqLpA8"
      },
      "source": [
        "hasil = face_recognition.compare_faces([encode1], encode2)\n",
        "\n",
        "persamaan = face_recognition.face_distance([encode1], encode2)\n",
        "\n"
      ],
      "execution_count": 14,
      "outputs": []
    },
    {
      "cell_type": "code",
      "metadata": {
        "colab": {
          "base_uri": "https://localhost:8080/"
        },
        "id": "njfLi014L2ci",
        "outputId": "e0cb7973-1d8f-48c3-f21b-9d98956167e1"
      },
      "source": [
        "print(hasil, persamaan)\n",
        "\n",
        "\n"
      ],
      "execution_count": 15,
      "outputs": [
        {
          "output_type": "stream",
          "name": "stdout",
          "text": [
            "[False] [0.81007785]\n"
          ]
        }
      ]
    },
    {
      "cell_type": "code",
      "metadata": {
        "id": "c_iQ5HAwL5hY"
      },
      "source": [
        "\n",
        "#cv2.imshow('img1', kot1)\n",
        "#cv2.inshow('img2', kot2)"
      ],
      "execution_count": 16,
      "outputs": []
    },
    {
      "cell_type": "code",
      "metadata": {
        "id": "4WaQm9Sjfe10"
      },
      "source": [
        ""
      ],
      "execution_count": 16,
      "outputs": []
    }
  ]
}